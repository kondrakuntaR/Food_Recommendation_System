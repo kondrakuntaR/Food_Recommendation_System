{
 "cells": [
  {
   "cell_type": "code",
   "execution_count": 1,
   "metadata": {
    "colab": {
     "base_uri": "https://localhost:8080/"
    },
    "id": "b1dpS3Qstmvy",
    "outputId": "43a7ecd6-2818-4608-8c0b-0000d28365de"
   },
   "outputs": [
    {
     "name": "stdout",
     "output_type": "stream",
     "text": [
      "Mounted at /content/drive\n"
     ]
    }
   ],
   "source": [
    "import io\n",
    "import pandas as pd\n",
    "from google.colab import drive\n",
    "drive.mount('/content/drive')\n",
    "from PIL import Image\n",
    "import requests\n",
    "import urllib\n",
    "import urllib.request \n",
    "from keras.preprocessing.image import load_img \n",
    "from keras.preprocessing.image import img_to_array \n",
    "from keras.applications.vgg16 import preprocess_input  \n",
    "from keras.applications.vgg16 import VGG16 \n",
    "from keras.models import Model\n",
    "from sklearn.cluster import KMeans\n",
    "from sklearn.decomposition import PCA\n",
    "import os.path\n",
    "import numpy as np\n",
    "import matplotlib.pyplot as plt\n",
    "from random import randint\n",
    "import pickle\n",
    "import sklearn\n",
    "from sklearn import metrics\n",
    "import os\n",
    "import shutil\n",
    "import math "
   ]
  },
  {
   "cell_type": "code",
   "execution_count": 2,
   "metadata": {
    "colab": {
     "base_uri": "https://localhost:8080/",
     "height": 206
    },
    "id": "3orQz8jwturm",
    "outputId": "5e68b3e2-d4b0-4c54-ecdc-0f99fb24fc9f"
   },
   "outputs": [
    {
     "data": {
      "text/html": [
       "\n",
       "  <div id=\"df-049d29c2-fadf-4bc0-8848-92b675f7b990\">\n",
       "    <div class=\"colab-df-container\">\n",
       "      <div>\n",
       "<style scoped>\n",
       "    .dataframe tbody tr th:only-of-type {\n",
       "        vertical-align: middle;\n",
       "    }\n",
       "\n",
       "    .dataframe tbody tr th {\n",
       "        vertical-align: top;\n",
       "    }\n",
       "\n",
       "    .dataframe thead th {\n",
       "        text-align: right;\n",
       "    }\n",
       "</style>\n",
       "<table border=\"1\" class=\"dataframe\">\n",
       "  <thead>\n",
       "    <tr style=\"text-align: right;\">\n",
       "      <th></th>\n",
       "      <th>Unnamed: 0</th>\n",
       "      <th>id</th>\n",
       "      <th>title</th>\n",
       "      <th>partition</th>\n",
       "      <th>url</th>\n",
       "    </tr>\n",
       "  </thead>\n",
       "  <tbody>\n",
       "    <tr>\n",
       "      <th>0</th>\n",
       "      <td>0</td>\n",
       "      <td>00003a70b1</td>\n",
       "      <td>Crunchy Onion Potato Bake</td>\n",
       "      <td>test</td>\n",
       "      <td>http://img.sndimg.com/food/image/upload/w_512,...</td>\n",
       "    </tr>\n",
       "    <tr>\n",
       "      <th>1</th>\n",
       "      <td>1</td>\n",
       "      <td>000075604a</td>\n",
       "      <td>Kombu Tea Grilled Chicken Thigh</td>\n",
       "      <td>train</td>\n",
       "      <td>https://img-global.cpcdn.com/001_recipes/58069...</td>\n",
       "    </tr>\n",
       "    <tr>\n",
       "      <th>2</th>\n",
       "      <td>2</td>\n",
       "      <td>00007bfd16</td>\n",
       "      <td>Strawberry Rhubarb Dump Cake</td>\n",
       "      <td>train</td>\n",
       "      <td>http://img.sndimg.com/food/image/upload/w_512,...</td>\n",
       "    </tr>\n",
       "    <tr>\n",
       "      <th>3</th>\n",
       "      <td>3</td>\n",
       "      <td>000095fc1d</td>\n",
       "      <td>Yogurt Parfaits</td>\n",
       "      <td>train</td>\n",
       "      <td>http://tastykitchen.com/recipes/wp-content/upl...</td>\n",
       "    </tr>\n",
       "    <tr>\n",
       "      <th>4</th>\n",
       "      <td>4</td>\n",
       "      <td>0000b1e2b5</td>\n",
       "      <td>Fennel-Rubbed Pork Tenderloin with Roasted Fen...</td>\n",
       "      <td>train</td>\n",
       "      <td>http://assets.epicurious.com/photos/5609a4d662...</td>\n",
       "    </tr>\n",
       "  </tbody>\n",
       "</table>\n",
       "</div>\n",
       "      <button class=\"colab-df-convert\" onclick=\"convertToInteractive('df-049d29c2-fadf-4bc0-8848-92b675f7b990')\"\n",
       "              title=\"Convert this dataframe to an interactive table.\"\n",
       "              style=\"display:none;\">\n",
       "        \n",
       "  <svg xmlns=\"http://www.w3.org/2000/svg\" height=\"24px\"viewBox=\"0 0 24 24\"\n",
       "       width=\"24px\">\n",
       "    <path d=\"M0 0h24v24H0V0z\" fill=\"none\"/>\n",
       "    <path d=\"M18.56 5.44l.94 2.06.94-2.06 2.06-.94-2.06-.94-.94-2.06-.94 2.06-2.06.94zm-11 1L8.5 8.5l.94-2.06 2.06-.94-2.06-.94L8.5 2.5l-.94 2.06-2.06.94zm10 10l.94 2.06.94-2.06 2.06-.94-2.06-.94-.94-2.06-.94 2.06-2.06.94z\"/><path d=\"M17.41 7.96l-1.37-1.37c-.4-.4-.92-.59-1.43-.59-.52 0-1.04.2-1.43.59L10.3 9.45l-7.72 7.72c-.78.78-.78 2.05 0 2.83L4 21.41c.39.39.9.59 1.41.59.51 0 1.02-.2 1.41-.59l7.78-7.78 2.81-2.81c.8-.78.8-2.07 0-2.86zM5.41 20L4 18.59l7.72-7.72 1.47 1.35L5.41 20z\"/>\n",
       "  </svg>\n",
       "      </button>\n",
       "      \n",
       "  <style>\n",
       "    .colab-df-container {\n",
       "      display:flex;\n",
       "      flex-wrap:wrap;\n",
       "      gap: 12px;\n",
       "    }\n",
       "\n",
       "    .colab-df-convert {\n",
       "      background-color: #E8F0FE;\n",
       "      border: none;\n",
       "      border-radius: 50%;\n",
       "      cursor: pointer;\n",
       "      display: none;\n",
       "      fill: #1967D2;\n",
       "      height: 32px;\n",
       "      padding: 0 0 0 0;\n",
       "      width: 32px;\n",
       "    }\n",
       "\n",
       "    .colab-df-convert:hover {\n",
       "      background-color: #E2EBFA;\n",
       "      box-shadow: 0px 1px 2px rgba(60, 64, 67, 0.3), 0px 1px 3px 1px rgba(60, 64, 67, 0.15);\n",
       "      fill: #174EA6;\n",
       "    }\n",
       "\n",
       "    [theme=dark] .colab-df-convert {\n",
       "      background-color: #3B4455;\n",
       "      fill: #D2E3FC;\n",
       "    }\n",
       "\n",
       "    [theme=dark] .colab-df-convert:hover {\n",
       "      background-color: #434B5C;\n",
       "      box-shadow: 0px 1px 3px 1px rgba(0, 0, 0, 0.15);\n",
       "      filter: drop-shadow(0px 1px 2px rgba(0, 0, 0, 0.3));\n",
       "      fill: #FFFFFF;\n",
       "    }\n",
       "  </style>\n",
       "\n",
       "      <script>\n",
       "        const buttonEl =\n",
       "          document.querySelector('#df-049d29c2-fadf-4bc0-8848-92b675f7b990 button.colab-df-convert');\n",
       "        buttonEl.style.display =\n",
       "          google.colab.kernel.accessAllowed ? 'block' : 'none';\n",
       "\n",
       "        async function convertToInteractive(key) {\n",
       "          const element = document.querySelector('#df-049d29c2-fadf-4bc0-8848-92b675f7b990');\n",
       "          const dataTable =\n",
       "            await google.colab.kernel.invokeFunction('convertToInteractive',\n",
       "                                                     [key], {});\n",
       "          if (!dataTable) return;\n",
       "\n",
       "          const docLinkHtml = 'Like what you see? Visit the ' +\n",
       "            '<a target=\"_blank\" href=https://colab.research.google.com/notebooks/data_table.ipynb>data table notebook</a>'\n",
       "            + ' to learn more about interactive tables.';\n",
       "          element.innerHTML = '';\n",
       "          dataTable['output_type'] = 'display_data';\n",
       "          await google.colab.output.renderOutput(dataTable, element);\n",
       "          const docLink = document.createElement('div');\n",
       "          docLink.innerHTML = docLinkHtml;\n",
       "          element.appendChild(docLink);\n",
       "        }\n",
       "      </script>\n",
       "    </div>\n",
       "  </div>\n",
       "  "
      ],
      "text/plain": [
       "   Unnamed: 0          id                                              title  \\\n",
       "0           0  00003a70b1                          Crunchy Onion Potato Bake   \n",
       "1           1  000075604a                    Kombu Tea Grilled Chicken Thigh   \n",
       "2           2  00007bfd16                       Strawberry Rhubarb Dump Cake   \n",
       "3           3  000095fc1d                                    Yogurt Parfaits   \n",
       "4           4  0000b1e2b5  Fennel-Rubbed Pork Tenderloin with Roasted Fen...   \n",
       "\n",
       "  partition                                                url  \n",
       "0      test  http://img.sndimg.com/food/image/upload/w_512,...  \n",
       "1     train  https://img-global.cpcdn.com/001_recipes/58069...  \n",
       "2     train  http://img.sndimg.com/food/image/upload/w_512,...  \n",
       "3     train  http://tastykitchen.com/recipes/wp-content/upl...  \n",
       "4     train  http://assets.epicurious.com/photos/5609a4d662...  "
      ]
     },
     "execution_count": 2,
     "metadata": {},
     "output_type": "execute_result"
    }
   ],
   "source": [
    "df = pd.read_csv(\"/content/drive/MyDrive/Colab Notebooks/food_rec.csv\")\n",
    "df.head()"
   ]
  },
  {
   "cell_type": "code",
   "execution_count": 3,
   "metadata": {
    "id": "EvBBrSN4txB0"
   },
   "outputs": [],
   "source": [
    "df_train=df.loc[df['partition'] == \"train\"]\n",
    "df_test=df.loc[df['partition'] == \"test\"]\n",
    "df_val=df.loc[df['partition'] == \"val\"]"
   ]
  },
  {
   "cell_type": "code",
   "execution_count": 4,
   "metadata": {
    "id": "5fXan4Mkt0q4"
   },
   "outputs": [],
   "source": [
    "df_train_3000=df_train[0:3000]\n"
   ]
  },
  {
   "cell_type": "code",
   "execution_count": 5,
   "metadata": {
    "id": "FlrzedCnuOyy"
   },
   "outputs": [],
   "source": [
    "for i,j in zip(df_train_3000[\"url\"],df_train_3000[\"title\"]):\n",
    "  image_url = i\n",
    "  name = \"{}.jpg\".format(j)\n",
    "  try:\n",
    "    imf = urllib.request.urlretrieve(image_url,name)\n",
    "  except :\n",
    "    pass"
   ]
  },
  {
   "cell_type": "code",
   "execution_count": 6,
   "metadata": {
    "id": "AQjmTJ_DxhQ9"
   },
   "outputs": [],
   "source": [
    "path = \"/content\"\n",
    "\n",
    "os.chdir(path)\n",
    "\n",
    "food_imgs = []\n",
    "\n",
    "with os.scandir(path) as files:\n",
    "    for file in files:\n",
    "      if file.name.endswith('.jpg'):\n",
    "        food_imgs.append(file.name)"
   ]
  },
  {
   "cell_type": "code",
   "execution_count": 7,
   "metadata": {
    "colab": {
     "base_uri": "https://localhost:8080/"
    },
    "id": "-vzwyn4ey_DH",
    "outputId": "f62fa8dd-3c61-43e0-d422-48be69f99d24"
   },
   "outputs": [
    {
     "name": "stdout",
     "output_type": "stream",
     "text": [
      "Downloading data from https://storage.googleapis.com/tensorflow/keras-applications/vgg16/vgg16_weights_tf_dim_ordering_tf_kernels.h5\n",
      "553467904/553467096 [==============================] - 5s 0us/step\n",
      "553476096/553467096 [==============================] - 5s 0us/step\n"
     ]
    }
   ],
   "source": [
    "# load the model first and pass as an argument\n",
    "model = VGG16()\n",
    "model = Model(inputs = model.inputs, outputs = model.layers[-2].output)\n",
    "\n",
    "def extract_features(file, model):\n",
    "    # load the image as a 224x224 array\n",
    "    img = load_img(file, target_size=(224,224))\n",
    "    # convert from 'PIL.Image.Image' to numpy array\n",
    "    img = np.array(img) \n",
    "    # reshape the data for the model reshape(num_of_samples, dim 1, dim 2, channels)\n",
    "    reshaped_img = img.reshape(1,224,224,3) \n",
    "    # prepare image for model\n",
    "    imgx = preprocess_input(reshaped_img)\n",
    "    # get the feature vector\n",
    "    features = model.predict(imgx, use_multiprocessing=True)\n",
    "    return features"
   ]
  },
  {
   "cell_type": "code",
   "execution_count": 8,
   "metadata": {
    "id": "L_OUxQFOzIK6"
   },
   "outputs": [],
   "source": [
    "data = {}\n",
    "p = \"/content/foodpickle.pkl\"\n",
    "\n",
    "# lop through each image in the dataset\n",
    "for food_img in food_imgs:\n",
    "    # try to extract the features and update the dictionary\n",
    "    try:\n",
    "        feat = extract_features(food_img,model)\n",
    "        data[food_img] = feat\n",
    "    # if something fails, save the extracted features as a pickle file (optional)\n",
    "    except:\n",
    "        with open(p,'wb') as file:\n",
    "            pickle.dump(data,file)\n",
    "          \n",
    " \n",
    "# get a list of the filenames\n",
    "filenames = np.array(list(data.keys()))\n",
    "\n",
    "# get a list of just the features\n",
    "feat = np.array(list(data.values()))\n",
    "feat.shape\n",
    "(210, 1, 4096)\n",
    "\n",
    "# reshape so that there are 210 samples of 4096 vectors\n",
    "feat = feat.reshape(-1,4096)\n",
    "feat.shape\n",
    "(210, 4096)\n",
    "label = df_train_3000['title'].tolist()\n",
    "unique_labels = list(set(label))"
   ]
  },
  {
   "cell_type": "code",
   "execution_count": 9,
   "metadata": {
    "id": "1LFee5nqzgUR"
   },
   "outputs": [],
   "source": [
    "pca = PCA(n_components=0.99)\n",
    "pca.fit(feat)\n",
    "x = pca.transform(feat)"
   ]
  },
  {
   "cell_type": "code",
   "execution_count": 10,
   "metadata": {
    "id": "HSPO6H95QNcO"
   },
   "outputs": [],
   "source": [
    "km = KMeans(n_clusters=200)  \n",
    "clusts = km.fit(x)"
   ]
  },
  {
   "cell_type": "code",
   "execution_count": 11,
   "metadata": {
    "colab": {
     "base_uri": "https://localhost:8080/"
    },
    "id": "pwzDdXn18Emf",
    "outputId": "b839c0b7-a7e6-4287-fc46-6965d29c19db"
   },
   "outputs": [
    {
     "data": {
      "text/plain": [
       "array([152,  20,  69, ...,   1,  30,  51], dtype=int32)"
      ]
     },
     "execution_count": 11,
     "metadata": {},
     "output_type": "execute_result"
    }
   ],
   "source": [
    "km.labels_"
   ]
  },
  {
   "cell_type": "code",
   "execution_count": 12,
   "metadata": {
    "id": "Vk9a9eww8GTE"
   },
   "outputs": [],
   "source": [
    "groups = {}\n",
    "for file, cluster in zip(filenames,km.labels_):\n",
    "    if cluster not in groups.keys():\n",
    "        groups[cluster] = []\n",
    "        groups[cluster].append(file)\n",
    "    else:\n",
    "        groups[cluster].append(file)"
   ]
  },
  {
   "cell_type": "code",
   "execution_count": 18,
   "metadata": {
    "colab": {
     "base_uri": "https://localhost:8080/"
    },
    "id": "9qiBrtR88J_i",
    "outputId": "77234141-143a-48f6-dc32-ed48595ca1f2"
   },
   "outputs": [
    {
     "data": {
      "text/plain": [
       "['Red Devil.jpg',\n",
       " 'Pots De Creme.jpg',\n",
       " 'Orange-Marshmallow Pops.jpg',\n",
       " \"Emeril's Mango Lassi.jpg\",\n",
       " 'Southwestern Corn and Red Pepper Chowder.jpg',\n",
       " 'Caramel Coffee.jpg',\n",
       " 'Kinako Milk Agar Jello.jpg',\n",
       " 'Salted Caramel Hot Cocoa.jpg',\n",
       " 'Iced Mocha Coffee.jpg',\n",
       " 'Easy Chocolate Souffle (Mark Bittman).jpg',\n",
       " 'Pineapple Ginger Smoothie.jpg',\n",
       " 'Mango Oatmeal Breakfast Smoothie.jpg',\n",
       " 'Molasses and Cream Coffee.jpg',\n",
       " 'Ice Cream and Candy Shakes.jpg',\n",
       " 'Harry Potter Butter Beer.jpg',\n",
       " 'Strawberry-Citrus Smoothie.jpg',\n",
       " 'Chicken Potato Corn Chowder.jpg',\n",
       " 'Cocoa Coffee Caramel Latte.jpg',\n",
       " 'White Chocolate Mint Cappuccino.jpg',\n",
       " 'Feeling Down.jpg',\n",
       " 'Berry Kamikazi.jpg']"
      ]
     },
     "execution_count": 18,
     "metadata": {},
     "output_type": "execute_result"
    }
   ],
   "source": [
    "groups[5]"
   ]
  },
  {
   "cell_type": "code",
   "execution_count": 22,
   "metadata": {
    "colab": {
     "base_uri": "https://localhost:8080/"
    },
    "id": "C8iaraxcDYOO",
    "outputId": "d809414f-7390-4e40-e26c-4035c7648990"
   },
   "outputs": [
    {
     "data": {
      "text/plain": [
       "['Split Pea Soup With Caramelized Onions and Cumin Seed.jpg',\n",
       " 'BLT&C Soup.jpg',\n",
       " 'Smoked Pistachio Sambal.jpg',\n",
       " 'Easy One Pot Soup with Kabocha Squash.jpg',\n",
       " 'Turkey Stew.jpg',\n",
       " \"Mateo's Better then Your Taco Shop Salsa.jpg\",\n",
       " 'Red Lentil, Miso and Shiitake Mushroom Soup.jpg',\n",
       " 'Cream Stew without Roux.jpg',\n",
       " 'Pioneer Woman - Tomato Soup With Sherry.jpg',\n",
       " 'Yellow Dhal - Sweet Potato Soup.jpg',\n",
       " 'Warm Garbanzo Bean and Kale Salad with Smoked Paprika and Parsley Vinaigrette.jpg',\n",
       " 'Pumpkin and Shrimp Bisque.jpg',\n",
       " 'Sauteed Trout Filet Topped with Apple Mostardo and Garlicky Collard Greens.jpg',\n",
       " 'Butternut Squash Soup Recipe.jpg',\n",
       " 'Green Soup.jpg',\n",
       " 'Fennel-Orange Gremolata.jpg',\n",
       " 'Spicy Chicken Curry.jpg',\n",
       " 'Mushroom Vegetable Soup.jpg',\n",
       " 'Tortilla-Beef Soup.jpg',\n",
       " 'Vickys Vegetable Scotch Broth.jpg']"
      ]
     },
     "execution_count": 22,
     "metadata": {},
     "output_type": "execute_result"
    }
   ],
   "source": [
    "groups[9]"
   ]
  },
  {
   "cell_type": "code",
   "execution_count": 24,
   "metadata": {
    "colab": {
     "base_uri": "https://localhost:8080/"
    },
    "id": "ZG5tXNb9SXDj",
    "outputId": "10a48a84-7af5-4a56-949a-426c83b3aa77"
   },
   "outputs": [
    {
     "data": {
      "text/plain": [
       "['Bar Chicks - Blackened Chicken Sliders.jpg',\n",
       " 'Bean, Bacon, and Blue Cheese Dip.jpg',\n",
       " 'Sopapillia Cheesecake.jpg',\n",
       " 'Hoisin Chicken Crepes.jpg',\n",
       " \"Michelle's Turkey Burgers with Lemon Mayonnaise.jpg\",\n",
       " 'Slow-Cooker Pot Roast Sandwiches.jpg',\n",
       " 'Slow Cooker Italian Turkey.jpg',\n",
       " 'Chocolate Almond Sandwich.jpg',\n",
       " 'Bacon, Tomato & Parmesan Rolls With Rosemary Mayonnaise.jpg',\n",
       " 'Shredded Roast Beef Poboys.jpg',\n",
       " 'The British Bulldog! Traditional Layered Beef Steak Suet Pudding.jpg',\n",
       " 'Crock Pot Kalua Pork.jpg',\n",
       " 'Barbecued Santa Fe Chicken Sandwich.jpg',\n",
       " 'Quick Pain Au Chocolat.jpg',\n",
       " 'Ham and Gouda Panini.jpg',\n",
       " 'Blazing Bronco Burgers With Smoking Chipotle Honey Sauce.jpg',\n",
       " 'Root Beer Sloppy Joes.jpg',\n",
       " 'Cheese Crisp Burger.jpg',\n",
       " 'Cajun Chicken Sandwich.jpg',\n",
       " 'Grilled Veggie Quesadillas.jpg']"
      ]
     },
     "execution_count": 24,
     "metadata": {},
     "output_type": "execute_result"
    }
   ],
   "source": [
    "groups[11]"
   ]
  },
  {
   "cell_type": "code",
   "execution_count": 25,
   "metadata": {
    "colab": {
     "base_uri": "https://localhost:8080/"
    },
    "id": "6SwuOAOSS5LL",
    "outputId": "74a4188f-58d6-4222-ba3c-e576f041bae7"
   },
   "outputs": [
    {
     "data": {
      "text/plain": [
       "['Skillet-Roasted Spiced Okra.jpg',\n",
       " 'Puffed-Up Zucchini.jpg',\n",
       " 'Saltimbocca Alla Pollo.jpg',\n",
       " 'Whole30 Thai Stir Fry.jpg',\n",
       " 'Easy Chicken and Dumplings.jpg',\n",
       " 'Char Siu Pork Corn and Bok Choy Stir Fry.jpg',\n",
       " 'Grilled Orange Sesame Chicken and Vegetables.jpg',\n",
       " 'Ginger Soy Chicken.jpg',\n",
       " 'Lemon-Tarragon Crab Cakes.jpg',\n",
       " 'Mustard-Crusted Tofu with Kale and Sweet Potato.jpg',\n",
       " 'Creamed Spinach.jpg',\n",
       " 'Fresh Tuna Steaks With Lemon.jpg',\n",
       " 'Baked Salmon with Tomatoes, Spinach & Mushrooms.jpg',\n",
       " 'German Chicken Paprikash.jpg',\n",
       " 'South American Cheese Sauce.jpg',\n",
       " 'Spicy Asian Marinated Flank Steak.jpg',\n",
       " 'Eggs Pesto.jpg',\n",
       " 'Saucy Mama Pacific Rim Ginger Beef and Snap Peas.jpg',\n",
       " 'Salmon with Sweet Chili Glaze, Sugar Snap Peas, and Pea Tendrils.jpg',\n",
       " 'Hungarian Cucumber Salad.jpg',\n",
       " 'Honey-Hoisin Pork Tenderloin.jpg',\n",
       " 'Awesome Pan Fried Potatoes.jpg',\n",
       " 'Baked Chicken & Gravy.jpg',\n",
       " 'Chicken Legs in White Wine Sauce.jpg',\n",
       " 'Garlic Pasta with Prawns.jpg',\n",
       " 'Easy Chicken Picante.jpg',\n",
       " 'Scallops on Fennel Puree with Honey Balsamic Drizzle.jpg',\n",
       " 'Jalapeno Popper Grilled Cheese Sandwich.jpg',\n",
       " 'Swordfish Steaks with Arugula and Basil Sauce.jpg',\n",
       " 'Vegetables and Cabbage Stir-Fry with Oyster Sauce.jpg']"
      ]
     },
     "execution_count": 25,
     "metadata": {},
     "output_type": "execute_result"
    }
   ],
   "source": [
    "groups[26]"
   ]
  },
  {
   "cell_type": "code",
   "execution_count": 34,
   "metadata": {
    "id": "3nL3gWNrEWFa"
   },
   "outputs": [],
   "source": [
    "df_test_1 = df_test.sample(n=500)"
   ]
  },
  {
   "cell_type": "code",
   "execution_count": 35,
   "metadata": {
    "id": "szlv91BgEoGO"
   },
   "outputs": [],
   "source": [
    "for i,j in zip(df_test_1[\"url\"],df_test_1[\"title\"]):\n",
    "  image_url = i\n",
    "  name = \"{}.png\".format(j)\n",
    "  try:\n",
    "    imf = urllib.request.urlretrieve(image_url,name)\n",
    "  except :\n",
    "    pass"
   ]
  },
  {
   "cell_type": "code",
   "execution_count": 29,
   "metadata": {
    "id": "o9WPkGfTMR4A"
   },
   "outputs": [],
   "source": [
    "path = \"/content\"\n",
    "\n",
    "os.chdir(path)\n",
    "\n",
    "food_imgs_test = []\n",
    "\n",
    "with os.scandir(path) as files:\n",
    "    for file in files:\n",
    "      if file.name.endswith('.png'):\n",
    "        food_imgs_test.append(file.name)"
   ]
  },
  {
   "cell_type": "code",
   "execution_count": 31,
   "metadata": {
    "id": "WKZrGyF2OMhD"
   },
   "outputs": [],
   "source": [
    "data = {}\n",
    "p = \"/content/foodpickle.pkl\"\n",
    "\n",
    "# lop through each image in the dataset\n",
    "for food_img in food_imgs_test:\n",
    "    # try to extract the features and update the dictionary\n",
    "    try:\n",
    "        feat_t = extract_features(food_img,model)\n",
    "        data[food_img] = feat_t\n",
    "    # if something fails, save the extracted features as a pickle file (optional)\n",
    "    except:\n",
    "        with open(p,'wb') as file:\n",
    "            pickle.dump(data,file)\n",
    "          \n",
    " \n",
    "# get a list of the filenames\n",
    "filenames = np.array(list(data.keys()))\n",
    "\n",
    "# get a list of just the features\n",
    "feat_t = np.array(list(data.values()))\n",
    "feat_t.shape\n",
    "(210, 1, 4096)\n",
    "\n",
    "# reshape so that there are 210 samples of 4096 vectors\n",
    "feat_t = feat_t.reshape(-1,4096)\n",
    "feat_t.shape\n",
    "(210, 4096)\n",
    "label = df_train_3000['title'].tolist()\n",
    "unique_labels = list(set(label))"
   ]
  },
  {
   "cell_type": "code",
   "execution_count": 37,
   "metadata": {
    "id": "GDQoGfN-Ob59"
   },
   "outputs": [],
   "source": [
    "pca = PCA(n_components=0.99)\n",
    "pca.fit(feat_t)\n",
    "x = pca.transform(feat_t)"
   ]
  },
  {
   "cell_type": "code",
   "execution_count": 67,
   "metadata": {
    "id": "Trl8ViTSbdX7"
   },
   "outputs": [],
   "source": [
    "km = KMeans(n_clusters=100)  \n",
    "clusts = km.fit_predict(x)"
   ]
  },
  {
   "cell_type": "code",
   "execution_count": 68,
   "metadata": {
    "id": "UsORUk-Zc0Yj"
   },
   "outputs": [],
   "source": [
    "clusters = {}\n",
    "for file, cluster in zip(filenames,km.labels_):\n",
    "    if cluster not in clusters.keys():\n",
    "        clusters[cluster] = []\n",
    "        clusters[cluster].append(file)\n",
    "    else:\n",
    "        clusters[cluster].append(file)"
   ]
  },
  {
   "cell_type": "code",
   "execution_count": 76,
   "metadata": {
    "colab": {
     "base_uri": "https://localhost:8080/"
    },
    "id": "B90PkmLadBUG",
    "outputId": "24c6da01-7b99-47a6-d5c9-111685d79eed"
   },
   "outputs": [
    {
     "data": {
      "text/plain": [
       "['Baked Berry Oatmeal Goodness.png',\n",
       " 'Cafe-Style Puffed Wheat Squares.png',\n",
       " 'Snowcapped Cherry Nibbles.png',\n",
       " 'Better-Than-Regular Brownies (Christmas Style!).png',\n",
       " 'Moroccan Lamb with Shiraz Honey Sauce.png',\n",
       " 'Cranberry Onion Chicken.png',\n",
       " 'Chinese Spareribs.png',\n",
       " 'Turkey Bacon Cornbread Muffins.png',\n",
       " 'Tropical Kumquat Cake.png',\n",
       " 'Eclair Cake.png',\n",
       " 'Eggplant Torta.png',\n",
       " 'Russian Stuffed Meatloaf.png',\n",
       " 'No Bake \" Chocolate Chip Cookie Pie \" ( made with Chips Ahoy)....png',\n",
       " 'Candy Cane KISS Blondies.png',\n",
       " 'Fluffernutter SMores Brownie Bars.png',\n",
       " 'Chocolate Nutella Molten Lava Cake.png',\n",
       " 'Dark Chocolate, Cranberry and Macadamia Bars.png']"
      ]
     },
     "execution_count": 76,
     "metadata": {},
     "output_type": "execute_result"
    }
   ],
   "source": [
    "clusters[7]"
   ]
  },
  {
   "cell_type": "code",
   "execution_count": 80,
   "metadata": {
    "colab": {
     "base_uri": "https://localhost:8080/"
    },
    "id": "9SmrbdRWdTE0",
    "outputId": "c69c33be-fb9e-40a9-f7b1-a4023138fa5b"
   },
   "outputs": [
    {
     "data": {
      "text/plain": [
       "['Shortcakes with Fresh Berries.png',\n",
       " 'Lemony Blueberry Layered Pie.png',\n",
       " 'Steamed Bread Made in Parchment Paper.png',\n",
       " 'Neiman Marcus Cake I.png',\n",
       " 'American Flag Cake.png',\n",
       " 'Carrot Cake With Cream Cheese Frosting.png',\n",
       " 'Simple Microwave Steamed Bread with Yogurt & Pancake Mix.png',\n",
       " 'Creamy Chocolate Roll with Berries.png',\n",
       " 'PHILADELPHIA Classic Cheesecake with Raspberry Sauce.png',\n",
       " 'Chicken and Black Bean Bake.png',\n",
       " 'Blueberry Lemon Bread.png',\n",
       " 'Confetti Celebration Cake.png',\n",
       " 'Pistachio Cupcakes with Pink Champagne Frosting.png',\n",
       " 'Garden Greek Pasta Salad.png',\n",
       " 'Chocolate Strawberry Shortcake.png',\n",
       " 'Blueberry French Toast.png',\n",
       " 'Sour Cream Dessert Omelet.png',\n",
       " 'Chocolate Cluster-Peanut Butter Cake.png',\n",
       " 'Gingerbread Nut Torte.png',\n",
       " 'Egg and Dairy Free! Strawberry Sponge Cake.png']"
      ]
     },
     "execution_count": 80,
     "metadata": {},
     "output_type": "execute_result"
    }
   ],
   "source": [
    "clusters[11]"
   ]
  },
  {
   "cell_type": "code",
   "execution_count": 82,
   "metadata": {
    "colab": {
     "base_uri": "https://localhost:8080/"
    },
    "id": "VX-6lp5Ud64i",
    "outputId": "aa90df60-1d14-44a4-ab4a-28c528e92bda"
   },
   "outputs": [
    {
     "data": {
      "text/plain": [
       "['Eggplant Tomato Salad.png',\n",
       " 'Strawberry Dressing.png',\n",
       " 'Stir-fried Tofu With Carrots and Red Peppers.png',\n",
       " 'Red, White and Blue Salad.png',\n",
       " 'Grilled Scallops with Parsley Salad.png',\n",
       " 'Zucchini Coleslaw.png',\n",
       " 'Greek Grilled Chicken Salad.png',\n",
       " 'Brie, Pear, Cranberry, and Walnut Salad.png',\n",
       " 'Tomato and Basil with Lemon Flavored Dressing.png',\n",
       " \"Grandma's French Dressing.png\",\n",
       " 'Kale With Garlic N Tomatoes.png',\n",
       " 'Grilled Caprese Chicken with a Balsamic Reduction.png',\n",
       " 'Easy Cajun Chicken Caesar Salad.png',\n",
       " 'Chicken Nicoise Salad.png',\n",
       " 'Roasted Broccoli and Tomatoes.png',\n",
       " 'Potato, Italian Sausage, and Arugula Salad.png']"
      ]
     },
     "execution_count": 82,
     "metadata": {},
     "output_type": "execute_result"
    }
   ],
   "source": [
    "clusters[13]"
   ]
  },
  {
   "cell_type": "code",
   "execution_count": 90,
   "metadata": {
    "colab": {
     "base_uri": "https://localhost:8080/"
    },
    "id": "U7Re4S8Ad-Qq",
    "outputId": "6b842361-bb21-41e2-d5ea-1643f9d8d1db"
   },
   "outputs": [
    {
     "data": {
      "text/plain": [
       "['Gingerbread Latte.png',\n",
       " 'The Elvis Smoothie.png',\n",
       " 'Kahlua Kiss.png',\n",
       " 'Baileys Spiced Frappe.png',\n",
       " 'Peanut Butter Banana Breakfast Smoothie.png',\n",
       " 'Chocolate Iced Coffee.png',\n",
       " 'Ham, Leek and Gouda Souffles.png',\n",
       " 'Campari and Orange Sparkling Cocktail.png',\n",
       " 'Peppermint Froth.png',\n",
       " 'Pumpkin Spice Coffee Syrup.png',\n",
       " 'Frozen Margaritas.png']"
      ]
     },
     "execution_count": 90,
     "metadata": {},
     "output_type": "execute_result"
    }
   ],
   "source": [
    "clusters[21]"
   ]
  },
  {
   "cell_type": "code",
   "execution_count": null,
   "metadata": {
    "id": "1j_c2YYUfHW1"
   },
   "outputs": [],
   "source": [
    "clusters[24]"
   ]
  },
  {
   "cell_type": "code",
   "execution_count": 105,
   "metadata": {
    "colab": {
     "base_uri": "https://localhost:8080/",
     "height": 267
    },
    "id": "x3xXL7p7gmcE",
    "outputId": "19588a57-c7b9-442c-8e67-77a099d6667b"
   },
   "outputs": [
    {
     "data": {
      "image/png": "[encoded data removed]",
      "text/plain": [
       "<IPython.core.display.Image object>"
      ]
     },
     "execution_count": 105,
     "metadata": {},
     "output_type": "execute_result"
    }
   ],
   "source": [
    "from IPython.display import Image\n",
    "Image('Grilled Scallops with Parsley Salad.png')"
   ]
  }
 ],
 "metadata": {
  "accelerator": "GPU",
  "colab": {
   "name": "Untitled7.ipynb",
   "provenance": []
  },
  "kernelspec": {
   "display_name": "Python 3",
   "language": "python",
   "name": "python3"
  },
  "language_info": {
   "codemirror_mode": {
    "name": "ipython",
    "version": 3
   },
   "file_extension": ".py",
   "mimetype": "text/x-python",
   "name": "python",
   "nbconvert_exporter": "python",
   "pygments_lexer": "ipython3",
   "version": "3.8.8"
  }
 },
 "nbformat": 4,
 "nbformat_minor": 1
}
